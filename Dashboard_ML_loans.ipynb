{
 "cells": [
  {
   "cell_type": "code",
   "execution_count": 1,
   "metadata": {},
   "outputs": [
    {
     "name": "stdout",
     "output_type": "stream",
     "text": [
      "Requirement already satisfied: dash in c:\\users\\hp 13-ad004la\\anaconda3\\lib\\site-packages (1.7.0)\n",
      "Requirement already satisfied: dash-renderer==1.2.2 in c:\\users\\hp 13-ad004la\\anaconda3\\lib\\site-packages (from dash) (1.2.2)\n",
      "Requirement already satisfied: future in c:\\users\\hp 13-ad004la\\anaconda3\\lib\\site-packages (from dash) (0.17.1)\n",
      "Requirement already satisfied: plotly in c:\\users\\hp 13-ad004la\\anaconda3\\lib\\site-packages (from dash) (4.4.1)\n",
      "Requirement already satisfied: Flask>=1.0.2 in c:\\users\\hp 13-ad004la\\anaconda3\\lib\\site-packages (from dash) (1.0.2)\n",
      "Requirement already satisfied: dash-html-components==1.0.2 in c:\\users\\hp 13-ad004la\\anaconda3\\lib\\site-packages (from dash) (1.0.2)\n",
      "Requirement already satisfied: dash-table==4.5.1 in c:\\users\\hp 13-ad004la\\anaconda3\\lib\\site-packages (from dash) (4.5.1)\n",
      "Requirement already satisfied: flask-compress in c:\\users\\hp 13-ad004la\\anaconda3\\lib\\site-packages (from dash) (1.4.0)\n",
      "Requirement already satisfied: dash-core-components==1.6.0 in c:\\users\\hp 13-ad004la\\anaconda3\\lib\\site-packages (from dash) (1.6.0)\n",
      "Requirement already satisfied: six in c:\\users\\hp 13-ad004la\\anaconda3\\lib\\site-packages (from plotly->dash) (1.12.0)\n",
      "Requirement already satisfied: retrying>=1.3.3 in c:\\users\\hp 13-ad004la\\anaconda3\\lib\\site-packages (from plotly->dash) (1.3.3)\n",
      "Requirement already satisfied: click>=5.1 in c:\\users\\hp 13-ad004la\\anaconda3\\lib\\site-packages (from Flask>=1.0.2->dash) (7.0)\n",
      "Requirement already satisfied: Jinja2>=2.10 in c:\\users\\hp 13-ad004la\\anaconda3\\lib\\site-packages (from Flask>=1.0.2->dash) (2.10)\n",
      "Requirement already satisfied: Werkzeug>=0.14 in c:\\users\\hp 13-ad004la\\anaconda3\\lib\\site-packages (from Flask>=1.0.2->dash) (0.14.1)\n",
      "Requirement already satisfied: itsdangerous>=0.24 in c:\\users\\hp 13-ad004la\\anaconda3\\lib\\site-packages (from Flask>=1.0.2->dash) (1.1.0)\n",
      "Requirement already satisfied: MarkupSafe>=0.23 in c:\\users\\hp 13-ad004la\\anaconda3\\lib\\site-packages (from Jinja2>=2.10->Flask>=1.0.2->dash) (1.1.1)\n",
      "Requirement already satisfied: dash_html_components in c:\\users\\hp 13-ad004la\\anaconda3\\lib\\site-packages (1.0.2)\n",
      "Requirement already satisfied: dash_core_components in c:\\users\\hp 13-ad004la\\anaconda3\\lib\\site-packages (1.6.0)\n",
      "Requirement already satisfied: plotly==4.4.1 in c:\\users\\hp 13-ad004la\\anaconda3\\lib\\site-packages (4.4.1)\n",
      "Requirement already satisfied: six in c:\\users\\hp 13-ad004la\\anaconda3\\lib\\site-packages (from plotly==4.4.1) (1.12.0)\n",
      "Requirement already satisfied: retrying>=1.3.3 in c:\\users\\hp 13-ad004la\\anaconda3\\lib\\site-packages (from plotly==4.4.1) (1.3.3)\n"
     ]
    }
   ],
   "source": [
    "!pip install dash\n",
    "!pip install dash_html_components\n",
    "!pip install dash_core_components\n",
    "!pip install plotly==4.4.1"
   ]
  },
  {
   "cell_type": "code",
   "execution_count": 1,
   "metadata": {},
   "outputs": [],
   "source": [
    "import dash\n",
    "import dash_core_components as dcc\n",
    "import dash_html_components as html\n",
    "from dash.dependencies import Input, Output\n",
    "import plotly.graph_objs as go\n",
    "import pandas as pd\n",
    "import numpy as np"
   ]
  },
  {
   "cell_type": "code",
   "execution_count": 2,
   "metadata": {},
   "outputs": [],
   "source": [
    "loans = pd.read_csv('loan_data.csv')"
   ]
  },
  {
   "cell_type": "code",
   "execution_count": 3,
   "metadata": {},
   "outputs": [
    {
     "data": {
      "text/html": [
       "<div>\n",
       "<style scoped>\n",
       "    .dataframe tbody tr th:only-of-type {\n",
       "        vertical-align: middle;\n",
       "    }\n",
       "\n",
       "    .dataframe tbody tr th {\n",
       "        vertical-align: top;\n",
       "    }\n",
       "\n",
       "    .dataframe thead th {\n",
       "        text-align: right;\n",
       "    }\n",
       "</style>\n",
       "<table border=\"1\" class=\"dataframe\">\n",
       "  <thead>\n",
       "    <tr style=\"text-align: right;\">\n",
       "      <th></th>\n",
       "      <th>credit.policy</th>\n",
       "      <th>purpose</th>\n",
       "      <th>int.rate</th>\n",
       "      <th>installment</th>\n",
       "      <th>log.annual.inc</th>\n",
       "      <th>dti</th>\n",
       "      <th>fico</th>\n",
       "      <th>days.with.cr.line</th>\n",
       "      <th>revol.bal</th>\n",
       "      <th>revol.util</th>\n",
       "      <th>inq.last.6mths</th>\n",
       "      <th>delinq.2yrs</th>\n",
       "      <th>pub.rec</th>\n",
       "      <th>not.fully.paid</th>\n",
       "    </tr>\n",
       "  </thead>\n",
       "  <tbody>\n",
       "    <tr>\n",
       "      <th>0</th>\n",
       "      <td>1</td>\n",
       "      <td>debt_consolidation</td>\n",
       "      <td>0.1189</td>\n",
       "      <td>829.10</td>\n",
       "      <td>11.350407</td>\n",
       "      <td>19.48</td>\n",
       "      <td>737</td>\n",
       "      <td>5639.958333</td>\n",
       "      <td>28854</td>\n",
       "      <td>52.1</td>\n",
       "      <td>0</td>\n",
       "      <td>0</td>\n",
       "      <td>0</td>\n",
       "      <td>0</td>\n",
       "    </tr>\n",
       "    <tr>\n",
       "      <th>1</th>\n",
       "      <td>1</td>\n",
       "      <td>credit_card</td>\n",
       "      <td>0.1071</td>\n",
       "      <td>228.22</td>\n",
       "      <td>11.082143</td>\n",
       "      <td>14.29</td>\n",
       "      <td>707</td>\n",
       "      <td>2760.000000</td>\n",
       "      <td>33623</td>\n",
       "      <td>76.7</td>\n",
       "      <td>0</td>\n",
       "      <td>0</td>\n",
       "      <td>0</td>\n",
       "      <td>0</td>\n",
       "    </tr>\n",
       "    <tr>\n",
       "      <th>2</th>\n",
       "      <td>1</td>\n",
       "      <td>debt_consolidation</td>\n",
       "      <td>0.1357</td>\n",
       "      <td>366.86</td>\n",
       "      <td>10.373491</td>\n",
       "      <td>11.63</td>\n",
       "      <td>682</td>\n",
       "      <td>4710.000000</td>\n",
       "      <td>3511</td>\n",
       "      <td>25.6</td>\n",
       "      <td>1</td>\n",
       "      <td>0</td>\n",
       "      <td>0</td>\n",
       "      <td>0</td>\n",
       "    </tr>\n",
       "    <tr>\n",
       "      <th>3</th>\n",
       "      <td>1</td>\n",
       "      <td>debt_consolidation</td>\n",
       "      <td>0.1008</td>\n",
       "      <td>162.34</td>\n",
       "      <td>11.350407</td>\n",
       "      <td>8.10</td>\n",
       "      <td>712</td>\n",
       "      <td>2699.958333</td>\n",
       "      <td>33667</td>\n",
       "      <td>73.2</td>\n",
       "      <td>1</td>\n",
       "      <td>0</td>\n",
       "      <td>0</td>\n",
       "      <td>0</td>\n",
       "    </tr>\n",
       "    <tr>\n",
       "      <th>4</th>\n",
       "      <td>1</td>\n",
       "      <td>credit_card</td>\n",
       "      <td>0.1426</td>\n",
       "      <td>102.92</td>\n",
       "      <td>11.299732</td>\n",
       "      <td>14.97</td>\n",
       "      <td>667</td>\n",
       "      <td>4066.000000</td>\n",
       "      <td>4740</td>\n",
       "      <td>39.5</td>\n",
       "      <td>0</td>\n",
       "      <td>1</td>\n",
       "      <td>0</td>\n",
       "      <td>0</td>\n",
       "    </tr>\n",
       "  </tbody>\n",
       "</table>\n",
       "</div>"
      ],
      "text/plain": [
       "   credit.policy             purpose  int.rate  installment  log.annual.inc  \\\n",
       "0              1  debt_consolidation    0.1189       829.10       11.350407   \n",
       "1              1         credit_card    0.1071       228.22       11.082143   \n",
       "2              1  debt_consolidation    0.1357       366.86       10.373491   \n",
       "3              1  debt_consolidation    0.1008       162.34       11.350407   \n",
       "4              1         credit_card    0.1426       102.92       11.299732   \n",
       "\n",
       "     dti  fico  days.with.cr.line  revol.bal  revol.util  inq.last.6mths  \\\n",
       "0  19.48   737        5639.958333      28854        52.1               0   \n",
       "1  14.29   707        2760.000000      33623        76.7               0   \n",
       "2  11.63   682        4710.000000       3511        25.6               1   \n",
       "3   8.10   712        2699.958333      33667        73.2               1   \n",
       "4  14.97   667        4066.000000       4740        39.5               0   \n",
       "\n",
       "   delinq.2yrs  pub.rec  not.fully.paid  \n",
       "0            0        0               0  \n",
       "1            0        0               0  \n",
       "2            0        0               0  \n",
       "3            0        0               0  \n",
       "4            1        0               0  "
      ]
     },
     "execution_count": 3,
     "metadata": {},
     "output_type": "execute_result"
    }
   ],
   "source": [
    "loans.head()"
   ]
  },
  {
   "cell_type": "code",
   "execution_count": 4,
   "metadata": {
    "scrolled": true
   },
   "outputs": [
    {
     "data": {
      "text/plain": [
       "Index(['credit.policy', 'purpose', 'int.rate', 'installment', 'log.annual.inc',\n",
       "       'dti', 'fico', 'days.with.cr.line', 'revol.bal', 'revol.util',\n",
       "       'inq.last.6mths', 'delinq.2yrs', 'pub.rec', 'not.fully.paid'],\n",
       "      dtype='object')"
      ]
     },
     "execution_count": 4,
     "metadata": {},
     "output_type": "execute_result"
    }
   ],
   "source": [
    "features = loans.columns\n",
    "features"
   ]
  },
  {
   "cell_type": "code",
   "execution_count": 5,
   "metadata": {},
   "outputs": [],
   "source": [
    "colors = {\n",
    "    'text' : '#050498',\n",
    "    'plot_color' : '#E0ECFF',\n",
    "    'paper_color' : '#F3F2FA'\n",
    "}"
   ]
  },
  {
   "cell_type": "code",
   "execution_count": 6,
   "metadata": {},
   "outputs": [],
   "source": [
    "app = dash.Dash()"
   ]
  },
  {
   "cell_type": "code",
   "execution_count": 7,
   "metadata": {},
   "outputs": [],
   "source": [
    "app.layout = html.Div([     \n",
    "        html.H1('Dashboard - Machine Learning: Predicting whether the borrower pays back their loan in full.',\n",
    "           style = {\n",
    "               'textAlign' : 'center',\n",
    "               'color' : colors['text']\n",
    "           }\n",
    "           ),\n",
    "    \n",
    "        html.H2('by Guillermo Sáez',\n",
    "           style = {\n",
    "               'textAlign' : 'center',\n",
    "               'color' : colors['text']\n",
    "           }), \n",
    "    \n",
    "         dcc.Graph(\n",
    "                id = 'histo_chart',\n",
    "                    figure = {\n",
    "                        'data' : [go.Histogram(x=loans['fico'], opacity=0.8, \n",
    "                                               marker={\"line\": {\"color\": \"#25232C\", \"width\": 0.3}}, nbinsx=100)],\n",
    "                        \n",
    "                        'layout': go.Layout(title=f\"Fico Distribution\", xaxis={\"title\": \"Fico (Score)\", \"showgrid\": False},\n",
    "                       yaxis={\"title\": \"Frequency\", \"showgrid\": False}, )\n",
    "                        }, style={'width': '48%', 'display': 'inline-block'}\n",
    "                    ),\n",
    "\n",
    "    \n",
    "         dcc.Graph(\n",
    "                id = 'histo_chart2',\n",
    "                    figure = {\n",
    "                        'data' : [go.Histogram(x=loans['int.rate'], opacity=0.7, \n",
    "                                               marker={\"line\": {\"color\": \"#25232C\", \"width\": 0.3}},nbinsx=100)],\n",
    "                        \n",
    "                        'layout': go.Layout(title=f\"Interest Rate Distribution\", xaxis={\"title\": \"Interest Rate (Nominal)\", \"showgrid\": False},\n",
    "                       yaxis={\"title\": \"Frequency\", \"showgrid\": False}, )\n",
    "                        }, style={'width': '48%', 'display': 'inline-block'}\n",
    "                    ),\n",
    "      \n",
    "\n",
    "\n",
    "        html.Div([\n",
    "        ]\n",
    "        ),\n",
    "    \n",
    "        html.Div([\n",
    "            dcc.Dropdown(\n",
    "                id='xaxis',\n",
    "                options=[{'label': i.title(), 'value': i} for i in features],\n",
    "                value='int.rate'\n",
    "            )\n",
    "        ],\n",
    "        style={'width': '48%', 'display': 'inline-block'}),\n",
    "\n",
    "        html.Div([\n",
    "            dcc.Dropdown(\n",
    "                id='yaxis',\n",
    "                options=[{'label': i.title(), 'value': i} for i in features],\n",
    "                value='fico'\n",
    "            )\n",
    "        ],style={'width': '48%', 'float': 'right', 'display': 'inline-block'}),\n",
    "\n",
    "    dcc.Graph(id='feature-graphic')\n",
    "], style={'width': '96%', 'padding':10, 'color' : colors['paper_color']})\n",
    "\n",
    "\n",
    "\n",
    "@app.callback(\n",
    "    Output('feature-graphic', 'figure'),\n",
    "    [Input('xaxis', 'value'),\n",
    "     Input('yaxis', 'value')])\n",
    "def update_graph(xaxis_name, yaxis_name):\n",
    "    return {\n",
    "        'data': [go.Scatter(\n",
    "            x=loans[xaxis_name],\n",
    "            y=loans[yaxis_name],\n",
    "            text=loans['purpose'],\n",
    "            mode='markers',\n",
    "            marker={\n",
    "                'size': 1.2*loans['log.annual.inc'],\n",
    "                'opacity': 0.5,\n",
    "                'line': {'width': 0.5, 'color': 'white'}\n",
    "            }\n",
    "        )],\n",
    "        'layout': go.Layout(\n",
    "            xaxis={'title': xaxis_name.title()},\n",
    "            yaxis={'title': yaxis_name.title()},\n",
    "            margin={'l': 40, 'b': 40, 't': 10, 'r': 0},\n",
    "            hovermode='closest'\n",
    "        )\n",
    "    }"
   ]
  },
  {
   "cell_type": "code",
   "execution_count": null,
   "metadata": {},
   "outputs": [
    {
     "name": "stdout",
     "output_type": "stream",
     "text": [
      " * Serving Flask app \"__main__\" (lazy loading)\n",
      " * Environment: production\n",
      "   WARNING: Do not use the development server in a production environment.\n",
      "   Use a production WSGI server instead.\n",
      " * Debug mode: off\n"
     ]
    },
    {
     "name": "stderr",
     "output_type": "stream",
     "text": [
      " * Running on http://127.0.0.1:8051/ (Press CTRL+C to quit)\n",
      "127.0.0.1 - - [22/Jan/2020 15:20:12] \"\u001b[37mGET / HTTP/1.1\u001b[0m\" 200 -\n",
      "127.0.0.1 - - [22/Jan/2020 15:20:14] \"\u001b[37mGET /_dash-dependencies HTTP/1.1\u001b[0m\" 200 -\n",
      "127.0.0.1 - - [22/Jan/2020 15:20:15] \"\u001b[37mGET /_dash-layout HTTP/1.1\u001b[0m\" 200 -\n",
      "127.0.0.1 - - [22/Jan/2020 15:20:15] \"\u001b[37mGET /_favicon.ico?v=1.7.0 HTTP/1.1\u001b[0m\" 200 -\n",
      "127.0.0.1 - - [22/Jan/2020 15:20:15] \"\u001b[37mPOST /_dash-update-component HTTP/1.1\u001b[0m\" 200 -\n"
     ]
    }
   ],
   "source": [
    "if __name__ == '__main__':\n",
    "    app.run_server(port=8051)"
   ]
  },
  {
   "cell_type": "code",
   "execution_count": null,
   "metadata": {},
   "outputs": [],
   "source": []
  }
 ],
 "metadata": {
  "kernelspec": {
   "display_name": "Python 3",
   "language": "python",
   "name": "python3"
  },
  "language_info": {
   "codemirror_mode": {
    "name": "ipython",
    "version": 3
   },
   "file_extension": ".py",
   "mimetype": "text/x-python",
   "name": "python",
   "nbconvert_exporter": "python",
   "pygments_lexer": "ipython3",
   "version": "3.7.3"
  }
 },
 "nbformat": 4,
 "nbformat_minor": 2
}
